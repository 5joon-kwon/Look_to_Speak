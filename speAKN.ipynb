!pip install ffmpeg-python

from IPython.display import HTML, Audio
from google.colab.output import eval_js
from base64 import b64decode
import numpy as np
from scipy.io.wavfile import read as wav_read
import io
import ffmpeg

AUDIO_HTML = """
<script>
var my_div = document.createElement("DIV");
var my_p = document.createElement("P");
var my_btn = document.createElement("BUTTON");
var t = document.createTextNode("Press to start recording");

my_btn.appendChild(t);
//my_p.appendChild(my_btn);
my_div.appendChild(my_btn);
document.body.appendChild(my_div);

var base64data = 0;
var reader;
var recorder, gumStream;
var recordButton = my_btn;

var handleSuccess = function(stream) {
  gumStream = stream;
  var options = {
    //bitsPerSecond: 8000, //chrome seems to ignore, always 48k
    mimeType : 'audio/webm;codecs=opus'
    //mimeType : 'audio/webm;codecs=pcm'
  };
  //recorder = new MediaRecorder(stream, options);
  recorder = new MediaRecorder(stream);
  recorder.ondataavailable = function(e) {
    var url = URL.createObjectURL(e.data);
    var preview = document.createElement('audio');
    preview.controls = true;
    preview.src = url;
    document.body.appendChild(preview);

    reader = new FileReader();
    reader.readAsDataURL(e.data);
    reader.onloadend = function() {
      base64data = reader.result;
      //console.log("Inside FileReader:" + base64data);
    }
  };
  recorder.start();
  };

recordButton.innerText = "Recording... press to stop";

navigator.mediaDevices.getUserMedia({audio: true}).then(handleSuccess);


function toggleRecording() {
  if (recorder && recorder.state == "recording") {
      recorder.stop();
      gumStream.getAudioTracks()[0].stop();
      recordButton.innerText = "Saving the recording... pls wait!"
  }
}

// https://stackoverflow.com/a/951057
function sleep(ms) {
  return new Promise(resolve => setTimeout(resolve, ms));
}

var data = new Promise(resolve=>{
//recordButton.addEventListener("click", toggleRecording);
recordButton.onclick = ()=>{
toggleRecording()

sleep(2000).then(() => {
  // wait 2000ms for the data to be available...
  // ideally this should use something like await...
  //console.log("Inside data:" + base64data)
  resolve(base64data.toString())

});

}
});

</script>
"""

def get_audio():
  display(HTML(AUDIO_HTML))
  data = eval_js("data")
  binary = b64decode(data.split(',')[1])

  process = (ffmpeg
    .input('pipe:0')
    .output('pipe:1', format='wav')
    .run_async(pipe_stdin=True, pipe_stdout=True, pipe_stderr=True, quiet=True, overwrite_output=True)
  )
  output, err = process.communicate(input=binary)

  riff_chunk_size = len(output) - 8
 
  q = riff_chunk_size
  b = []
  for i in range(4):
      q, r = divmod(q, 256)
      b.append(r)

  riff = output[:4] + bytes(b) + output[8:]

  sr, audio = wav_read(io.BytesIO(riff))

  return audio, sr

import io
import wave
from base64 import b64decode
from IPython.display import Audio, display, HTML
from google.colab import output

def save_audio_as_wav(audio, filename):
    with wave.open(filename, 'wb') as wav_file:
        wav_file.setnchannels(1)
        wav_file.setsampwidth(2)
        wav_file.setframerate(44100)
        wav_file.writeframes(audio)

import os

def save_recorded_audio(file_name):
    audio, sr = get_audio()  # get_audio 함수를 통해 오디오 데이터 가져오기

    file_path = os.path.join('/content/drive/Shareddrives/BME_AI/speech2text/', file_name)

    save_audio_as_wav(audio, file_path)
    print(f'녹음된 오디오를 WAV 파일로 저장했습니다: {file_path}')

    return file_path

import numpy as np

file_name = 'recording.wav'

file_path = save_recorded_audio(file_name)

with wave.open(file_path, 'rb') as wav_file:
    frames = wav_file.readframes(wav_file.getnframes())
    audio_data = np.frombuffer(frames, dtype=np.int16)

!pip install SpeechRecognition

import speech_recognition as sr

r = sr.Recognizer()
kr_audio = sr.AudioFile('/content/drive/Shareddrives/BME_AI/speech2text/recording.wav')

with kr_audio as source:
    audio = r.record(source)

print(r.recognize_google(audio, language='ko-KR'))

!pip install PyKakao --upgrade

from PyKakao import KoGPT
api = KoGPT(service_key = "KAKAO REST API 키")

basic = '''환자 정보: 질병 루게릭병, 성별 남, 나이 30대, 상태 감기
환자 정보를 바탕으로 질문에 답하세요'''
question = '''Q:'''+ r.recognize_google(audio, language='ko-KR')
answer = '''A:'''

prompt = basic + question + answer

response = api.generate(prompt, max_tokens=64, temperature=0.5, top_p=0.85, n = 6)

results = response.get('generations')
results

left = []
right = []
for i in range(len(results)):
    if i < len(results)/2:
        left.append(results[i].get('text').split('Q')[0].rstrip().replace("\n",""))

    else:
        right.append(results[i].get('text').split('Q')[0].rstrip().replace("\n",""))
left, right
